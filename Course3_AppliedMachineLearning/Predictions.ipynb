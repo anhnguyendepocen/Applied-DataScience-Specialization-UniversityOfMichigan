{
 "cells": [
  {
   "cell_type": "markdown",
   "metadata": {},
   "source": [
    "---\n",
    "\n",
    "_You are currently looking at **version 1.0** of this notebook. To download notebooks and datafiles, as well as get help on Jupyter notebooks in the Coursera platform, visit the [Jupyter Notebook FAQ](https://www.coursera.org/learn/python-machine-learning/resources/bANLa) course resource._\n",
    "\n",
    "---"
   ]
  },
  {
   "cell_type": "markdown",
   "metadata": {},
   "source": [
    "\n",
    "## Assignment 4 - Understanding and Predicting Property Maintenance Fines\n",
    "\n",
    "This assignment is based on a data challenge from the Michigan Data Science Team ([MDST](http://midas.umich.edu/mdst/)). \n",
    "\n",
    "The Michigan Data Science Team ([MDST](http://midas.umich.edu/mdst/)) and the Michigan Student Symposium for Interdisciplinary Statistical Sciences ([MSSISS](https://sites.lsa.umich.edu/mssiss/)) have partnered with the City of Detroit to help solve one of the most pressing problems facing Detroit - blight. [Blight violations](http://www.detroitmi.gov/How-Do-I/Report/Blight-Complaint-FAQs) are issued by the city to individuals who allow their properties to remain in a deteriorated condition. Every year, the city of Detroit issues millions of dollars in fines to residents and every year, many of these fines remain unpaid. Enforcing unpaid blight fines is a costly and tedious process, so the city wants to know: how can we increase blight ticket compliance?\n",
    "\n",
    "The first step in answering this question is understanding when and why a resident might fail to comply with a blight ticket. This is where predictive modeling comes in. For this assignment, your task is to predict whether a given blight ticket will be paid on time.\n",
    "\n",
    "All data for this assignment has been provided to us through the [Detroit Open Data Portal](https://data.detroitmi.gov/). **Only the data already included in your Coursera directory can be used for training the model for this assignment.** Nonetheless, we encourage you to look into data from other Detroit datasets to help inform feature creation and model selection. We recommend taking a look at the following related datasets:\n",
    "\n",
    "* [Building Permits](https://data.detroitmi.gov/Property-Parcels/Building-Permits/xw2a-a7tf)\n",
    "* [Trades Permits](https://data.detroitmi.gov/Property-Parcels/Trades-Permits/635b-dsgv)\n",
    "* [Improve Detroit: Submitted Issues](https://data.detroitmi.gov/Government/Improve-Detroit-Submitted-Issues/fwz3-w3yn)\n",
    "* [DPD: Citizen Complaints](https://data.detroitmi.gov/Public-Safety/DPD-Citizen-Complaints-2016/kahe-efs3)\n",
    "* [Parcel Map](https://data.detroitmi.gov/Property-Parcels/Parcel-Map/fxkw-udwf)\n",
    "\n",
    "___\n",
    "\n",
    "We provide you with two data files for use in training and validating your models: train.csv and test.csv. Each row in these two files corresponds to a single blight ticket, and includes information about when, why, and to whom each ticket was issued. The target variable is compliance, which is True if the ticket was paid early, on time, or within one month of the hearing data, False if the ticket was paid after the hearing date or not at all, and Null if the violator was found not responsible. Compliance, as well as a handful of other variables that will not be available at test-time, are only included in train.csv.\n",
    "\n",
    "Note: All tickets where the violators were found not responsible are not considered during evaluation. They are included in the training set as an additional source of data for visualization, and to enable unsupervised and semi-supervised approaches. However, they are not included in the test set.\n",
    "\n",
    "<br>\n",
    "\n",
    "**File descriptions** (Use only this data for training your model!)\n",
    "\n",
    "    train.csv - the training set (all tickets issued 2004-2011)\n",
    "    test.csv - the test set (all tickets issued 2012-2016)\n",
    "    addresses.csv & latlons.csv - mapping from ticket id to addresses, and from addresses to lat/lon coordinates. \n",
    "     Note: misspelled addresses may be incorrectly geolocated.\n",
    "\n",
    "<br>\n",
    "\n",
    "**Data fields**\n",
    "\n",
    "train.csv & test.csv\n",
    "\n",
    "    ticket_id - unique identifier for tickets\n",
    "    agency_name - Agency that issued the ticket\n",
    "    inspector_name - Name of inspector that issued the ticket\n",
    "    violator_name - Name of the person/organization that the ticket was issued to\n",
    "    violation_street_number, violation_street_name, violation_zip_code - Address where the violation occurred\n",
    "    mailing_address_str_number, mailing_address_str_name, city, state, zip_code, non_us_str_code, country - Mailing address of the violator\n",
    "    ticket_issued_date - Date and time the ticket was issued\n",
    "    hearing_date - Date and time the violator's hearing was scheduled\n",
    "    violation_code, violation_description - Type of violation\n",
    "    disposition - Judgment and judgement type\n",
    "    fine_amount - Violation fine amount, excluding fees\n",
    "    admin_fee - $20 fee assigned to responsible judgments\n",
    "state_fee - $10 fee assigned to responsible judgments\n",
    "    late_fee - 10% fee assigned to responsible judgments\n",
    "    discount_amount - discount applied, if any\n",
    "    clean_up_cost - DPW clean-up or graffiti removal cost\n",
    "    judgment_amount - Sum of all fines and fees\n",
    "    grafitti_status - Flag for graffiti violations\n",
    "    \n",
    "train.csv only\n",
    "\n",
    "    payment_amount - Amount paid, if any\n",
    "    payment_date - Date payment was made, if it was received\n",
    "    payment_status - Current payment status as of Feb 1 2017\n",
    "    balance_due - Fines and fees still owed\n",
    "    collection_status - Flag for payments in collections\n",
    "    compliance [target variable for prediction] \n",
    "     Null = Not responsible\n",
    "     0 = Responsible, non-compliant\n",
    "     1 = Responsible, compliant\n",
    "    compliance_detail - More information on why each ticket was marked compliant or non-compliant\n",
    "\n",
    "\n",
    "___\n",
    "\n",
    "## Evaluation\n",
    "\n",
    "Your predictions will be given as the probability that the corresponding blight ticket will be paid on time.\n",
    "\n",
    "The evaluation metric for this assignment is the Area Under the ROC Curve (AUC). \n",
    "\n",
    "Your grade will be based on the AUC score computed for your classifier. A model which with an AUROC of 0.7 passes this assignment, over 0.75 will recieve full points.\n",
    "___\n",
    "\n",
    "For this assignment, create a function that trains a model to predict blight ticket compliance in Detroit using `train.csv`. Using this model, return a series of length 61001 with the data being the probability that each corresponding ticket from `test.csv` will be paid, and the index being the ticket_id.\n",
    "\n",
    "Example:\n",
    "\n",
    "    ticket_id\n",
    "       284932    0.531842\n",
    "       285362    0.401958\n",
    "       285361    0.105928\n",
    "       285338    0.018572\n",
    "                 ...\n",
    "       376499    0.208567\n",
    "       376500    0.818759\n",
    "       369851    0.018528\n",
    "       Name: compliance, dtype: float32"
   ]
  },
  {
   "cell_type": "code",
   "execution_count": 1,
   "metadata": {
    "collapsed": true
   },
   "outputs": [],
   "source": [
    "import pandas as pd\n",
    "import numpy as np\n",
    "import warnings\n",
    "warnings.filterwarnings('ignore')\n",
    "\n",
    "\n",
    "def blight_model():\n",
    "    \n",
    "    # Your code here\n",
    "    \n",
    "    return # Your answer here"
   ]
  },
  {
   "cell_type": "code",
   "execution_count": 2,
   "metadata": {},
   "outputs": [],
   "source": [
    "import pandas as pd\n",
    "\n",
    "train_raw = pd.read_csv(\"train.csv\", encoding='cp1252')\n",
    "test_set = pd.read_csv(\"test.csv\", encoding='cp1252')\n"
   ]
  },
  {
   "cell_type": "code",
   "execution_count": 3,
   "metadata": {},
   "outputs": [
    {
     "data": {
      "text/plain": [
       "(159880, 28)"
      ]
     },
     "execution_count": 3,
     "metadata": {},
     "output_type": "execute_result"
    }
   ],
   "source": [
    "# remove blight tickets where the offender was found not responsible (NaN)\n",
    "train_informative_compliance = train_raw[train_raw['compliance'].notnull()]\n",
    "\n",
    "# use only the columns that will prevent leakage and match the final training set\n",
    "common_columns = ['ticket_id', 'agency_name', 'inspector_name', 'violator_name', 'violation_street_number', \n",
    "           'violation_street_name', 'violation_zip_code', 'mailing_address_str_number', 'mailing_address_str_name', \n",
    "           'city', 'state', 'zip_code', 'non_us_str_code', 'country', 'ticket_issued_date', 'hearing_date', \n",
    "           'violation_code', 'violation_description', 'disposition', 'fine_amount', 'admin_fee', 'state_fee', \n",
    "           'late_fee', 'discount_amount', 'clean_up_cost', 'judgment_amount', 'grafitti_status', 'compliance']\n",
    "# final train set\n",
    "train_common_columns = train_informative_compliance[common_columns]\n",
    "train_common_columns.shape"
   ]
  },
  {
   "cell_type": "code",
   "execution_count": 4,
   "metadata": {},
   "outputs": [
    {
     "data": {
      "text/plain": [
       "0.0    148283\n",
       "1.0     11597\n",
       "Name: compliance, dtype: int64"
      ]
     },
     "execution_count": 4,
     "metadata": {},
     "output_type": "execute_result"
    }
   ],
   "source": [
    "train_common_columns['compliance'].value_counts()"
   ]
  },
  {
   "cell_type": "markdown",
   "metadata": {},
   "source": [
    "#### Round one of testing using variables below that may be informative\n",
    "\n",
    "#### USE: \n",
    "'agency_name', 'inspector_name', 'violator_name', 'violation_street_number', 'violation_street_name', 'city', \n",
    "'violation_code', 'violation_description', 'disposition', 'fine_amount', 'late_fee' (leakage?), 'judgment_amount'\n",
    "\n",
    "#### UNUSED: \n",
    "'ticket_id', 'violation_zip_code' (NaN only), 'mailing_address_str_number', 'mailing_address_str_name', 'state', \n",
    "'zip_code', 'non_us_str_code' (NaN only), 'country' (USA same), 'ticket_issued_date', 'hearing_date', 'admin_fee' (all same),\n",
    "'state_fee' (all same), 'discount_amount' (mostly 0), 'clean_up_cost' (mostly 0), 'grafitti_status' (NaN), "
   ]
  },
  {
   "cell_type": "code",
   "execution_count": 5,
   "metadata": {},
   "outputs": [
    {
     "name": "stdout",
     "output_type": "stream",
     "text": [
      "<class 'pandas.core.frame.DataFrame'>\n",
      "Int64Index: 159880 entries, 0 to 250293\n",
      "Data columns (total 13 columns):\n",
      "agency_name                159880 non-null object\n",
      "inspector_name             159880 non-null object\n",
      "violator_name              159854 non-null object\n",
      "violation_street_number    159880 non-null float64\n",
      "violation_street_name      159880 non-null object\n",
      "city                       159880 non-null object\n",
      "violation_code             159880 non-null object\n",
      "violation_description      159880 non-null object\n",
      "disposition                159880 non-null object\n",
      "fine_amount                159880 non-null float64\n",
      "late_fee                   159880 non-null float64\n",
      "judgment_amount            159880 non-null float64\n",
      "compliance                 159880 non-null float64\n",
      "dtypes: float64(5), object(8)\n",
      "memory usage: 17.1+ MB\n"
     ]
    }
   ],
   "source": [
    "# Check to get more info on these variables\n",
    "train1 = train_common_columns[['agency_name', 'inspector_name', 'violator_name', \n",
    "                              'violation_street_number', 'violation_street_name', 'city', \n",
    "                              'violation_code', 'violation_description', 'disposition', \n",
    "                              'fine_amount', 'late_fee', 'judgment_amount', 'compliance']]\n",
    "train1.info()"
   ]
  },
  {
   "cell_type": "code",
   "execution_count": 6,
   "metadata": {},
   "outputs": [
    {
     "data": {
      "image/png": "[encoded data removed]",
      "text/plain": [
       "<matplotlib.figure.Figure at 0x1a1e094f60>"
      ]
     },
     "metadata": {},
     "output_type": "display_data"
    }
   ],
   "source": [
    "import seaborn as sb\n",
    "import matplotlib.pyplot as plt\n",
    "\n",
    "plt.scatter(train1['fine_amount'], train1['judgment_amount'], c= train_common_columns['compliance'], cmap='viridis')\n",
    "plt.xlim(0, 4000)\n",
    "plt.ylim(0, 4000)\n",
    "plt.xlabel('Fine Amount')\n",
    "plt.ylabel('Judgement_Amount')\n",
    "plt.show()"
   ]
  },
  {
   "cell_type": "code",
   "execution_count": 7,
   "metadata": {},
   "outputs": [
    {
     "data": {
      "text/plain": [
       "(61001,)"
      ]
     },
     "execution_count": 7,
     "metadata": {},
     "output_type": "execute_result"
    }
   ],
   "source": [
    "#train1['fine_amount'].reshape((159880,1))\n",
    "#train_common_columns['compliance'].reshape((159880,1))\n",
    "#y_train_int.reshape((159880,1))\n",
    "test_set['fine_amount'].shape"
   ]
  },
  {
   "cell_type": "code",
   "execution_count": 9,
   "metadata": {},
   "outputs": [
    {
     "data": {
      "text/plain": [
       "0.7491392084531208"
      ]
     },
     "execution_count": 9,
     "metadata": {},
     "output_type": "execute_result"
    }
   ],
   "source": [
    "# Test Log Regression on above variables and AUC check for accuracy\n",
    "from sklearn.model_selection import train_test_split\n",
    "from sklearn.linear_model import LogisticRegression\n",
    "from sklearn.metrics import roc_curve, auc\n",
    "\n",
    "#y_train_int = train_common_columns['compliance'].map(int)\n",
    "X_train, X_test, y_train, y_test = train_test_split(train1[['fine_amount', 'judgment_amount', 'late_fee']],\n",
    "                                                    train_common_columns['compliance'].reshape((159880,1)))\n",
    "\n",
    "model_LogR = LogisticRegression().fit(X_train, y_train)\n",
    "LogR_yProb = model_LogR.predict_proba(X_test)\n",
    "FPos_rate, TPos_rate, _ = roc_curve(y_test, LogR_yProb[:,1])\n",
    "roc_auc = auc(FPos_rate, TPos_rate)\n",
    "\n",
    "roc_auc"
   ]
  },
  {
   "cell_type": "code",
   "execution_count": 10,
   "metadata": {},
   "outputs": [
    {
     "data": {
      "text/plain": [
       "ticket_id\n",
       "284932    5.943212e-02\n",
       "285362    6.217715e-03\n",
       "285361    7.780215e-02\n",
       "285338    5.943212e-02\n",
       "285346    7.780215e-02\n",
       "285345    5.943212e-02\n",
       "285347    8.882543e-02\n",
       "285342    2.269706e-01\n",
       "285530    6.217715e-03\n",
       "284989    2.586085e-02\n",
       "285344    8.882543e-02\n",
       "285343    6.217715e-03\n",
       "285340    6.217715e-03\n",
       "285341    8.882543e-02\n",
       "285349    7.780215e-02\n",
       "285348    5.943212e-02\n",
       "284991    2.586085e-02\n",
       "285532    2.586085e-02\n",
       "285406    2.586085e-02\n",
       "285001    2.586085e-02\n",
       "285006    6.217715e-03\n",
       "285405    6.217715e-03\n",
       "285337    2.586085e-02\n",
       "285496    8.882543e-02\n",
       "285497    5.943212e-02\n",
       "285378    6.217715e-03\n",
       "285589    2.586085e-02\n",
       "285585    5.943212e-02\n",
       "285501    7.780215e-02\n",
       "285581    6.217715e-03\n",
       "              ...     \n",
       "376367    1.272387e-02\n",
       "376366    5.184899e-02\n",
       "376362    5.184899e-02\n",
       "376363    5.943212e-02\n",
       "376365    1.272387e-02\n",
       "376364    5.184899e-02\n",
       "376228    5.184899e-02\n",
       "376265    5.184899e-02\n",
       "376286    2.717053e-01\n",
       "376320    5.184899e-02\n",
       "376314    5.184899e-02\n",
       "376327    2.717053e-01\n",
       "376385    2.717053e-01\n",
       "376435    8.036241e-01\n",
       "376370    2.717053e-01\n",
       "376434    8.882543e-02\n",
       "376459    7.780215e-02\n",
       "376478    5.955003e-08\n",
       "376473    5.184899e-02\n",
       "376484    4.518694e-02\n",
       "376482    2.586085e-02\n",
       "376480    2.586085e-02\n",
       "376479    2.586085e-02\n",
       "376481    2.586085e-02\n",
       "376483    5.184899e-02\n",
       "376496    6.217715e-03\n",
       "376497    6.217715e-03\n",
       "376499    7.780215e-02\n",
       "376500    7.780215e-02\n",
       "369851    1.252065e-01\n",
       "Length: 61001, dtype: float64"
      ]
     },
     "execution_count": 10,
     "metadata": {},
     "output_type": "execute_result"
    }
   ],
   "source": [
    "LogR_yProb_actual = (model_LogR.predict_proba(test_set[['fine_amount', 'judgment_amount', 'late_fee']]))[:,1]\n",
    "\n",
    "y_proba_list = pd.Series(LogR_yProb_actual, index = test_set['ticket_id'])\n",
    "#y_proba_list = pd.DataFrame({'ticket_id': test_set['ticket_id'], '': LogR_yProb_actual})\n",
    "#y_proba_list = y_proba_list.reset_index(test_set['ticket_id'])\n",
    "y_proba_list"
   ]
  },
  {
   "cell_type": "code",
   "execution_count": 13,
   "metadata": {
    "scrolled": true
   },
   "outputs": [],
   "source": [
    "# # sanity check \n",
    "# bm = blight_model()\n",
    "# res = 'Data type Test: '\n",
    "# res += ['Failed: type(bm) should Series\\n','Passed\\n'][type(bm)==pd.Series]\n",
    "# res += 'Data shape Test: '\n",
    "# res += ['Failed: len(bm) should be 61001\\n','Passed\\n'][len(bm)==61001]\n",
    "# res += 'Data Values Test: '\n",
    "# res += ['Failed: all values should be in [0.,1.]\\n','Passed\\n'][all((bm<=1.) & (bm>=0.))]\n",
    "# res += 'Data Values type Test: '\n",
    "# res += ['Failed: bm.dtype should be float\\n','Passed\\n'][str(bm.dtype).count('float')>0]\n",
    "# res += 'Index type Test: '\n",
    "# res += ['Failed: type(bm.index) should be Int64Index\\n','Passed\\n'][type(bm.index)==pd.Int64Index]\n",
    "# res += 'Index values type Test: '\n",
    "# res += ['Failed: type(bm.index[0]) should be int64\\n','Passed\\n'][str(type(bm.index[0])).count(\"int64\")>0]\n",
    "\n",
    "# res += 'Output index shape test:'\n",
    "# res += ['Failed, bm.index.shape should be (61001,)\\n','Passed\\n'][bm.index.shape==(61001,)]\n",
    "\n",
    "# res += 'Output index test: '\n",
    "# if bm.index.shape==(61001,):\n",
    "#     res +=['Failed\\n','Passed\\n'][all(pd.read_csv('test.csv',usecols=[0],index_col=0).sort_index().index.values==bm.sort_index().index.values)]\n",
    "# else:\n",
    "#     res+='Failed'\n",
    "# print(res)"
   ]
  },
  {
   "cell_type": "code",
   "execution_count": null,
   "metadata": {
    "collapsed": true
   },
   "outputs": [],
   "source": [
    "from sklearn.svm import SVC\n",
    "\n",
    "X_train, X_test, y_train, y_test = train_test_split(train1[['fine_amount', 'judgment_amount', 'late_fee']],\n",
    "                                                    train_common_columns['compliance'].reshape((159880,1)))\n",
    "\n",
    "model_svm = SVC(kernel = 'linear').fit(X_train, y_train)\n",
    "#svm_predicted_mc = svm.predict(X_test_mc)\n",
    "\n",
    "# model_LogR = LogisticRegression().fit(X_train, y_train)\n",
    "svm_yProb = model_svm.predict_proba(X_test)\n",
    "FPos_rate, TPos_rate, _ = roc_curve(y_test, svm_yProb[:,1])\n",
    "roc_auc = auc(FPos_rate, TPos_rate)\n",
    "\n",
    "roc_auc"
   ]
  },
  {
   "cell_type": "code",
   "execution_count": null,
   "metadata": {
    "collapsed": true
   },
   "outputs": [],
   "source": []
  }
 ],
 "metadata": {
  "coursera": {
   "course_slug": "python-machine-learning",
   "graded_item_id": "nNS8l",
   "launcher_item_id": "yWWk7",
   "part_id": "w8BSS"
  },
  "kernelspec": {
   "display_name": "Python 3",
   "language": "python",
   "name": "python3"
  },
  "language_info": {
   "codemirror_mode": {
    "name": "ipython",
    "version": 3
   },
   "file_extension": ".py",
   "mimetype": "text/x-python",
   "name": "python",
   "nbconvert_exporter": "python",
   "pygments_lexer": "ipython3",
   "version": "3.6.3"
  }
 },
 "nbformat": 4,
 "nbformat_minor": 2
}
